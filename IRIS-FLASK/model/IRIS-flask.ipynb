{
 "cells": [
  {
   "cell_type": "code",
   "execution_count": 2,
   "metadata": {},
   "outputs": [],
   "source": [
    "import numpy as np"
   ]
  },
  {
   "cell_type": "code",
   "execution_count": 3,
   "metadata": {},
   "outputs": [],
   "source": [
    "def fit(x_train,y_train):\n",
    "    result = {}\n",
    "    classes = set(y_train)\n",
    "    for current_class in classes:\n",
    "        result[current_class] = {}\n",
    "        result[\"data_count\"] = len(y_train)\n",
    "        current_class_rows = (y_train == current_class)\n",
    "        x_train_current = x_train[current_class_rows]\n",
    "        y_train_current = y_train[current_class_rows]\n",
    "        result[current_class][\"total_count\"] = len(y_train_current)\n",
    "        num_features = x_train.shape[1]\n",
    "        for i in range(1,num_features + 1):\n",
    "            result[current_class][i] = {}\n",
    "            possible_values_for_features = set(x_train[:,i - 1])\n",
    "            for current_value in possible_values_for_features:\n",
    "                result[current_class][i][current_value] = (x_train_current[:,i - 1] == current_value ).sum()\n",
    "    return result\n",
    "\n",
    "\n",
    "def probability(dictionary,x ,current_class):\n",
    "    output = np.log(dictionary[current_class][\"total_count\"]) - np.log(dictionary[\"data_count\"])\n",
    "    num_features = len(dictionary[current_class].keys()) - 1\n",
    "    for i in range(1,num_features + 1):\n",
    "        xi = x[i -1]\n",
    "        count_current_class_with_xi = dictionary[current_class][i][xi] + 1\n",
    "        count_current_class = dictionary[current_class][\"total_count\"] + len(dictionary[current_class][i].keys())\n",
    "        probability_with_xi = np.log(count_current_class_with_xi) - np.log(count_current_class)\n",
    "        output = output + probability_with_xi\n",
    "    return output\n",
    "\n",
    "\n",
    "def predict_single_point(dictionary, x):\n",
    "    classes = dictionary.keys()\n",
    "    best_p = -1000\n",
    "    best_gain = -1\n",
    "    first_run = True\n",
    "    for current_class in classes:\n",
    "        if (current_class == \"data_count\"):\n",
    "            continue\n",
    "        p_current_class = probability(dictionary, x, current_class)\n",
    "        if (first_run or p_current_class > best_p):\n",
    "            best_p = p_current_class\n",
    "            best_class = current_class\n",
    "        first_run = False\n",
    "    return best_class\n",
    "        \n",
    "    \n",
    "    \n",
    "\n",
    "def predict(dictionary, x_test):\n",
    "    predictions = []\n",
    "    for x in x_test:\n",
    "        x_class = predict_single_point(dictionary, x)\n",
    "        predictions.append(x_class)\n",
    "    return predictions\n",
    "        "
   ]
  },
  {
   "cell_type": "code",
   "execution_count": 4,
   "metadata": {},
   "outputs": [
    {
     "name": "stdout",
     "output_type": "stream",
     "text": [
      "              precision    recall  f1-score   support\n",
      "\n",
      "           0       1.00      1.00      1.00        13\n",
      "           1       0.94      1.00      0.97        16\n",
      "           2       1.00      0.89      0.94         9\n",
      "\n",
      "    accuracy                           0.97        38\n",
      "   macro avg       0.98      0.96      0.97        38\n",
      "weighted avg       0.98      0.97      0.97        38\n",
      "\n",
      "[[13  0  0]\n",
      " [ 0 16  0]\n",
      " [ 0  1  8]]\n"
     ]
    }
   ],
   "source": [
    "def make_labelled(column):\n",
    "    second_limit = column.mean()\n",
    "    first_limit = 0.5 * second_limit\n",
    "    third_limit = 1.5 * second_limit\n",
    "    for i in range(0, len(column)):\n",
    "        if (column[i] < first_limit):\n",
    "            column[i] = 0\n",
    "        elif (column[i] < second_limit):\n",
    "            column[i] = 1\n",
    "        elif (column[i] < third_limit):\n",
    "            column[i] = 2\n",
    "        else:\n",
    "            column[i] = 3\n",
    "    return column\n",
    "\n",
    "from sklearn import model_selection\n",
    "from sklearn import datasets\n",
    "import pandas as pd\n",
    "from sklearn.metrics import classification_report, confusion_matrix\n",
    "\n",
    "iris = datasets.load_iris()\n",
    "x = iris.data\n",
    "y = iris.target\n",
    "\n",
    "\n",
    "for i in range(0,x.shape[-1]):\n",
    "    x[:,i] = make_labelled(x[:,i])\n",
    "\n",
    "x_train,x_test,y_train,y_test = model_selection.train_test_split(x,y,random_state = 0)\n",
    "\n",
    "dictionary = fit(x_train,y_train)\n",
    "predictions1 = predict(dictionary,x_test)\n",
    "\n",
    "print(classification_report(y_test,predictions1))\n",
    "print(confusion_matrix(y_test,predictions1))\n",
    "\n"
   ]
  },
  {
   "cell_type": "code",
   "execution_count": 5,
   "metadata": {},
   "outputs": [],
   "source": [
    "import pickle"
   ]
  },
  {
   "cell_type": "code",
   "execution_count": null,
   "metadata": {},
   "outputs": [],
   "source": []
  }
 ],
 "metadata": {
  "kernelspec": {
   "display_name": "Python 3",
   "language": "python",
   "name": "python3"
  },
  "language_info": {
   "codemirror_mode": {
    "name": "ipython",
    "version": 3
   },
   "file_extension": ".py",
   "mimetype": "text/x-python",
   "name": "python",
   "nbconvert_exporter": "python",
   "pygments_lexer": "ipython3",
   "version": "3.7.3"
  }
 },
 "nbformat": 4,
 "nbformat_minor": 2
}
